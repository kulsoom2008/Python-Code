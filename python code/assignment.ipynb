{
 "cells": [
  {
   "cell_type": "code",
   "execution_count": 1,
   "id": "4be8d0b0-8f0a-4de4-84ea-e1c705f3d572",
   "metadata": {},
   "outputs": [
    {
     "name": "stdout",
     "output_type": "stream",
     "text": [
      "Twinkle,twinkle,little star\n",
      " How I wonder what you are!\n",
      "   Up above the world so high\n",
      "     Like a diamond in the sky\n",
      "Twinkle,twinkle,little star\n",
      " How I wonder what you are!\n"
     ]
    }
   ],
   "source": [
    "print(\"Twinkle,twinkle,little star\") \n",
    "print(\" How I wonder what you are!\")\n",
    "print(\"   Up above the world so high\") \n",
    "print(\"     Like a diamond in the sky\") \n",
    "print(\"Twinkle,twinkle,little star\") \n",
    "print(\" How I wonder what you are!\")"
   ]
  },
  {
   "cell_type": "code",
   "execution_count": 2,
   "id": "5d218d5b-c843-4a1a-a0fa-d66a0a9cafa0",
   "metadata": {},
   "outputs": [
    {
     "name": "stdout",
     "output_type": "stream",
     "text": [
      "Python version\n",
      "3.13.5 | packaged by Anaconda, Inc. | (main, Jun 12 2025, 16:37:03) [MSC v.1929 64 bit (AMD64)]\n"
     ]
    }
   ],
   "source": [
    "import sys \n",
    "print(\"Python version\") \n",
    "print(sys.version) "
   ]
  },
  {
   "cell_type": "code",
   "execution_count": 3,
   "id": "8a847f75-ef09-43f4-9b0f-31eaa7ae8db4",
   "metadata": {},
   "outputs": [
    {
     "name": "stdout",
     "output_type": "stream",
     "text": [
      "Current Date and Time: 2025-07-26 17:28:29.083906\n"
     ]
    }
   ],
   "source": [
    "import datetime \n",
    "current_datetime = datetime.datetime.now()\n",
    "print(\"Current Date and Time:\", current_datetime) "
   ]
  },
  {
   "cell_type": "code",
   "execution_count": 4,
   "id": "f720e518-a256-47cb-b30e-81c7210f0cc1",
   "metadata": {},
   "outputs": [
    {
     "name": "stdin",
     "output_type": "stream",
     "text": [
      "Enter the radius of the circle 55\n"
     ]
    },
    {
     "name": "stdout",
     "output_type": "stream",
     "text": [
      "Area is 9503.317777109125\n"
     ]
    }
   ],
   "source": [
    "import math \n",
    "radius = int(input(\"Enter the radius of the circle\"))\n",
    "area = math.pi * radius**2 \n",
    "print(\"Area is\",area)"
   ]
  },
  {
   "cell_type": "code",
   "execution_count": 5,
   "id": "d4daebb8-3a03-412c-98a6-94b065c1255a",
   "metadata": {},
   "outputs": [
    {
     "name": "stdin",
     "output_type": "stream",
     "text": [
      "Enter your first name:  kulsoom\n",
      "Enter your last name- raza khan\n"
     ]
    },
    {
     "name": "stdout",
     "output_type": "stream",
     "text": [
      "kulsoom raza khan\n"
     ]
    }
   ],
   "source": [
    "first_name = input(\"Enter your first name: \") \n",
    "last_name = input(\"Enter your last name-\") \n",
    "print(first_name +\" \"+last_name)"
   ]
  },
  {
   "cell_type": "code",
   "execution_count": 6,
   "id": "22be8a26-6740-453f-b2a3-4d78f47b9f87",
   "metadata": {},
   "outputs": [
    {
     "name": "stdin",
     "output_type": "stream",
     "text": [
      "Enter the first num:  55\n",
      "Enter the second num:  15\n"
     ]
    },
    {
     "name": "stdout",
     "output_type": "stream",
     "text": [
      "The sum is: 70\n"
     ]
    }
   ],
   "source": [
    "num1 = int(input(\"Enter the first num: \")) \n",
    "num2 = int(input(\"Enter the second num: \")) \n",
    "sum_result = num1 + num2 \n",
    "print(\"The sum is:\", sum_result)"
   ]
  },
  {
   "cell_type": "code",
   "execution_count": 7,
   "id": "d8d0a6ce-4d9b-4ffa-87e7-8b19fb7120aa",
   "metadata": {},
   "outputs": [
    {
     "name": "stdin",
     "output_type": "stream",
     "text": [
      "Enter marks for Subject 1: 98\n",
      "Enter marks for Subject 2:  88\n",
      "Enter marks for Subject 3:  78\n",
      "Enter marks for Subject 4:  68\n",
      "Enter marks for Subject 5:  58\n"
     ]
    },
    {
     "name": "stdout",
     "output_type": "stream",
     "text": [
      "B\n"
     ]
    }
   ],
   "source": [
    "subject1 = int(input(\"Enter marks for Subject 1:\")) \n",
    "subject2 = int(input(\"Enter marks for Subject 2: \")) \n",
    "subject3 = int(input(\"Enter marks for Subject 3: \")) \n",
    "subject4 =int(input(\"Enter marks for Subject 4: \")) \n",
    "subject5 = int(input(\"Enter marks for Subject 5: \")) \n",
    "total_marks = subject1 + subject2 + subject3 + subject4 + subject5 \n",
    "average_marks = total_marks/5 \n",
    "percentage = (total_marks / 500) * 100\n",
    "if percentage >= 90: \n",
    "   print(\"A+\") \n",
    "elif percentage >= 80: \n",
    "   print(\"A\") \n",
    "elif percentage >= 70: \n",
    "   print(\"B\") \n",
    "elif percentage >= 60: \n",
    "   print(\"C\") \n",
    "elif percentage >= 50: \n",
    "   print(\"D\")\n",
    "else: \n",
    "   print(\"F\")"
   ]
  },
  {
   "cell_type": "code",
   "execution_count": 8,
   "id": "95dcf4dc-fcbf-48e7-9c28-7b1dac1f90bc",
   "metadata": {},
   "outputs": [
    {
     "name": "stdin",
     "output_type": "stream",
     "text": [
      " 66\n"
     ]
    },
    {
     "name": "stdout",
     "output_type": "stream",
     "text": [
      "number is an even number.\n"
     ]
    }
   ],
   "source": [
    "number = int(input(\"\")) \n",
    "if number % 2 == 0: \n",
    " print(\"number is an even number.\") \n",
    "else: \n",
    " print(\"number is an odd number\") "
   ]
  },
  {
   "cell_type": "code",
   "execution_count": null,
   "id": "f39bd353-6765-4037-a133-a884f070c88c",
   "metadata": {},
   "outputs": [],
   "source": []
  }
 ],
 "metadata": {
  "kernelspec": {
   "display_name": "Python 3 (ipykernel)",
   "language": "python",
   "name": "python3"
  },
  "language_info": {
   "codemirror_mode": {
    "name": "ipython",
    "version": 3
   },
   "file_extension": ".py",
   "mimetype": "text/x-python",
   "name": "python",
   "nbconvert_exporter": "python",
   "pygments_lexer": "ipython3",
   "version": "3.13.5"
  }
 },
 "nbformat": 4,
 "nbformat_minor": 5
}
